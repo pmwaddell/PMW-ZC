{
 "cells": [
  {
   "cell_type": "code",
   "execution_count": 1,
   "id": "b5a244f8-4539-4069-9028-8d32d6f8ce9f",
   "metadata": {},
   "outputs": [
    {
     "name": "stdout",
     "output_type": "stream",
     "text": [
      "Hello, World in CodeSpaces!\n"
     ]
    }
   ],
   "source": [
    "print(\"Hello, World in CodeSpaces!\")"
   ]
  },
  {
   "cell_type": "code",
   "execution_count": null,
   "id": "0ef006c4-d20a-4eba-9005-a3e4e713b960",
   "metadata": {},
   "outputs": [],
   "source": []
  }
 ],
 "metadata": {
  "kernelspec": {
   "display_name": "Python 3 (ipykernel)",
   "language": "python",
   "name": "python3"
  },
  "language_info": {
   "codemirror_mode": {
    "name": "ipython",
    "version": 3
   },
   "file_extension": ".py",
   "mimetype": "text/x-python",
   "name": "python",
   "nbconvert_exporter": "python",
   "pygments_lexer": "ipython3",
   "version": "3.10.13"
  }
 },
 "nbformat": 4,
 "nbformat_minor": 5
}
